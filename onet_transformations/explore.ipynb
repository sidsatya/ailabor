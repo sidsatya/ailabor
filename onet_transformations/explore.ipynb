{
 "cells": [
  {
   "cell_type": "code",
   "execution_count": 1,
   "id": "60ee0f7a",
   "metadata": {},
   "outputs": [],
   "source": [
    "import pandas as pd\n",
    "import numpy as np\n",
    "import os\n",
    "import matplotlib.pyplot as plt"
   ]
  },
  {
   "cell_type": "code",
   "execution_count": 10,
   "id": "7fd8002a",
   "metadata": {},
   "outputs": [],
   "source": [
    "ailabor_dir = '/Users/sidsatya/dev/ailabor'"
   ]
  },
  {
   "cell_type": "markdown",
   "id": "a8feb3ce",
   "metadata": {},
   "source": [
    "Looking at occs that exist in 2019 but not 2010"
   ]
  },
  {
   "cell_type": "code",
   "execution_count": null,
   "id": "5eb8929b",
   "metadata": {},
   "outputs": [],
   "source": [
    "all_onet_data = pd.read_csv(os.path.join(ailabor_dir, 'onet_transformations/output_data/task_statements_harmonized_with_attributes.csv'))"
   ]
  },
  {
   "cell_type": "code",
   "execution_count": 17,
   "id": "4d11bd55",
   "metadata": {},
   "outputs": [],
   "source": [
    "soc_2018_data = pd.read_csv(os.path.join(ailabor_dir, 'data/onet/onet_occsoc_crosswalks/onet_2019_to_2018_crosswalk.csv'))\n",
    "soc_2018_dict = soc_2018_data.set_index('2018 SOC Code')['2018 SOC Title'].to_dict()"
   ]
  },
  {
   "cell_type": "code",
   "execution_count": 21,
   "id": "c3112471",
   "metadata": {},
   "outputs": [],
   "source": [
    "unique_2003_codes = all_onet_data[all_onet_data['ONET_release_year'] == 2003]['2018 SOC Code'].unique()\n",
    "unique_2006_codes = all_onet_data[all_onet_data['ONET_release_year'] == 2006]['2018 SOC Code'].unique()\n",
    "unique_2010_codes = all_onet_data[all_onet_data['ONET_release_year'] == 2009]['2018 SOC Code'].unique()\n",
    "unique_2019_codes = all_onet_data[all_onet_data['ONET_release_year'] == 2019]['2018 SOC Code'].unique()\n",
    "unique_2025_codes = all_onet_data[all_onet_data['ONET_release_year'] == 2025]['2018 SOC Code'].unique()"
   ]
  },
  {
   "cell_type": "code",
   "execution_count": 18,
   "id": "88d2a15f",
   "metadata": {},
   "outputs": [
    {
     "name": "stdout",
     "output_type": "stream",
     "text": [
      "11-9171 - Funeral Home Managers\n",
      "13-1075 - Labor Relations Specialists\n",
      "13-1131 - Fundraisers\n",
      "13-2071 - Credit Counselors\n",
      "21-1094 - Community Health Workers\n",
      "29-1129 - Therapists, All Other\n",
      "29-1128 - Exercise Physiologists\n",
      "29-2035 - Magnetic Resonance Imaging Technologists\n",
      "29-9093 - Surgical Assistants\n",
      "31-9097 - Phlebotomists\n"
     ]
    }
   ],
   "source": [
    "# find codes that exist in 2019 but not 2010\n",
    "for code in unique_2019_codes[~np.isin(unique_2019_codes, unique_2010_codes)]: \n",
    "    print(f\"{code} - {soc_2018_dict.get(code, 'Unknown SOC Title')}\")"
   ]
  },
  {
   "cell_type": "code",
   "execution_count": 22,
   "id": "b34236fb",
   "metadata": {},
   "outputs": [
    {
     "name": "stdout",
     "output_type": "stream",
     "text": [
      "The history saving thread hit an unexpected error (OperationalError('unable to open database file')).History will not be written to the database.\n",
      "11-1031 - Legislators\n",
      "11-9072 - Entertainment and Recreation Managers, Except Gambling\n",
      "11-9171 - Funeral Home Managers\n",
      "11-9179 - Personal Service Managers, All Other\n",
      "11-9199 - Managers, All Other\n",
      "13-1074 - Farm Labor Contractors\n",
      "13-1075 - Labor Relations Specialists\n",
      "13-1082 - Project Management Specialists\n",
      "13-1131 - Fundraisers\n",
      "13-1199 - Business Operations Specialists, All Other\n",
      "13-2022 - Appraisers of Personal and Business Property\n",
      "13-2071 - Credit Counselors\n",
      "13-2099 - Financial Specialists, All Other\n",
      "15-1221 - Computer and Information Research Scientists\n",
      "15-1254 - Web Developers\n",
      "15-1255 - Web and Digital Interface Designers\n",
      "15-2051 - Data Scientists\n",
      "17-2199 - Engineers, All Other\n",
      "17-3028 - Calibration Technologists and Technicians\n",
      "17-3029 - Engineering Technologists and Technicians, Except Drafters, All Other\n",
      "19-2099 - Physical Scientists, All Other\n",
      "19-3039 - Psychologists, All Other\n",
      "19-3099 - Social Scientists and Related Workers, All Other\n",
      "19-4044 - Hydrologic Technicians\n",
      "19-4099 - Life, Physical, and Social Science Technicians, All Other\n",
      "19-5012 - Occupational Health and Safety Technicians\n",
      "21-1015 - Rehabilitation Counselors\n",
      "21-1094 - Community Health Workers\n",
      "25-2059 - Special Education Teachers, All Other\n",
      "25-3031 - Substitute Teachers, Short-Term\n",
      "25-3041 - Tutors\n",
      "27-1012 - Craft Artists\n",
      "27-2091 - Disc Jockeys, Except Radio\n",
      "27-4015 - Lighting Technicians\n",
      "29-1128 - Exercise Physiologists\n",
      "29-1129 - Therapists, All Other\n",
      "29-1151 - Nurse Anesthetists\n",
      "29-1161 - Nurse Midwives\n",
      "29-1171 - Nurse Practitioners\n",
      "29-1212 - Cardiologists\n",
      "29-1213 - Dermatologists\n",
      "29-1214 - Emergency Medicine Physicians\n",
      "29-1217 - Neurologists\n",
      "29-1222 - Physicians, Pathologists\n",
      "29-1224 - Radiologists\n",
      "29-1229 - Physicians, All Other\n",
      "29-1241 - Ophthalmologists, Except Pediatric\n",
      "29-1291 - Acupuncturists\n",
      "29-1299 - Healthcare Diagnosing or Treating Practitioners, All Other\n",
      "29-2035 - Magnetic Resonance Imaging Technologists\n",
      "29-2036 - Medical Dosimetrists\n",
      "29-2057 - Ophthalmic Medical Technicians\n",
      "29-2092 - Hearing Aid Specialists\n",
      "29-9092 - Genetic Counselors\n",
      "29-9093 - Surgical Assistants\n",
      "29-9099 - Healthcare Practitioners and Technical Workers, All Other\n",
      "31-9094 - Medical Transcriptionists\n",
      "31-9097 - Phlebotomists\n",
      "31-9099 - Healthcare Support Workers, All Other\n",
      "33-1011 - First-Line Supervisors of Correctional Officers\n",
      "33-1091 - First-Line Supervisors of Security Workers\n",
      "33-9093 - Transportation Security Screeners\n",
      "33-9094 - School Bus Monitors\n",
      "33-9099 - Protective Service Workers, All Other\n",
      "35-2013 - Cooks, Private Household\n",
      "39-4012 - Crematory Operators\n",
      "41-3091 - Sales Representatives of Services, Except Advertising, Insurance, Financial Services, and Travel\n",
      "47-2231 - Solar Photovoltaic Installers\n",
      "47-3016 - Helpers--Roofers\n",
      "47-4099 - Construction and Related Workers, All Other\n",
      "49-2098 - Security and Fire Alarm Systems Installers\n",
      "49-9081 - Wind Turbine Service Technicians\n",
      "51-2051 - Fiberglass Laminators and Fabricators\n",
      "51-2092 - Team Assemblers\n",
      "51-8099 - Plant and System Operators, All Other\n",
      "53-1041 - Aircraft Cargo Handling Supervisors\n",
      "53-2022 - Airfield Operations Specialists\n",
      "53-6032 - Aircraft Service Attendants\n"
     ]
    }
   ],
   "source": [
    "# find codes that exist in 2025 but not 2003\n",
    "for code in unique_2025_codes[~np.isin(unique_2025_codes, unique_2003_codes)]: \n",
    "    print(f\"{code} - {soc_2018_dict.get(code, 'Unknown SOC Title')}\")"
   ]
  },
  {
   "cell_type": "code",
   "execution_count": null,
   "id": "5d19735b",
   "metadata": {},
   "outputs": [],
   "source": []
  }
 ],
 "metadata": {
  "kernelspec": {
   "display_name": "ailabor_env",
   "language": "python",
   "name": "python3"
  },
  "language_info": {
   "codemirror_mode": {
    "name": "ipython",
    "version": 3
   },
   "file_extension": ".py",
   "mimetype": "text/x-python",
   "name": "python",
   "nbconvert_exporter": "python",
   "pygments_lexer": "ipython3",
   "version": "3.11.13"
  }
 },
 "nbformat": 4,
 "nbformat_minor": 5
}
