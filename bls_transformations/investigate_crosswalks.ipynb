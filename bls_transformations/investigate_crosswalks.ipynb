{
 "cells": [
  {
   "cell_type": "code",
   "execution_count": 1,
   "id": "70bb41cc",
   "metadata": {},
   "outputs": [],
   "source": [
    "import pandas as pd\n",
    "import numpy as np\n",
    "import os\n",
    "import matplotlib.pyplot as plt"
   ]
  },
  {
   "cell_type": "code",
   "execution_count": 4,
   "id": "07d6e44b",
   "metadata": {},
   "outputs": [],
   "source": [
    "crosswalk_dir = '/Users/sidsatya/dev/ailabor/data/bls/crosswalks/'\n",
    "crosswalk_2000_to_2010 = pd.read_csv(os.path.join(crosswalk_dir, 'crosswalk_2000_to_2010.csv'))\n",
    "crosswalk_2010_to_2018 = pd.read_csv(os.path.join(crosswalk_dir, 'crosswalk_2010_to_2018.csv'))\n",
    "crosswalk_hybrid_2000_to_2010 = pd.read_csv(os.path.join(crosswalk_dir, 'crosswalk_hybrid_2000_to_2010.csv'))\n",
    "crosswalk_hybrid_2010_to_2018 = pd.read_csv(os.path.join(crosswalk_dir, 'crosswalk_hybrid_2010_to_2018.csv'))"
   ]
  },
  {
   "cell_type": "code",
   "execution_count": 6,
   "id": "1ec0eeed",
   "metadata": {},
   "outputs": [
    {
     "data": {
      "text/html": [
       "<div>\n",
       "<style scoped>\n",
       "    .dataframe tbody tr th:only-of-type {\n",
       "        vertical-align: middle;\n",
       "    }\n",
       "\n",
       "    .dataframe tbody tr th {\n",
       "        vertical-align: top;\n",
       "    }\n",
       "\n",
       "    .dataframe thead th {\n",
       "        text-align: right;\n",
       "    }\n",
       "</style>\n",
       "<table border=\"1\" class=\"dataframe\">\n",
       "  <thead>\n",
       "    <tr style=\"text-align: right;\">\n",
       "      <th></th>\n",
       "      <th>2000 SOC Code</th>\n",
       "      <th>2010 SOC Code</th>\n",
       "    </tr>\n",
       "  </thead>\n",
       "  <tbody>\n",
       "    <tr>\n",
       "      <th>72</th>\n",
       "      <td>15-1081</td>\n",
       "      <td>5</td>\n",
       "    </tr>\n",
       "    <tr>\n",
       "      <th>306</th>\n",
       "      <td>29-1111</td>\n",
       "      <td>4</td>\n",
       "    </tr>\n",
       "    <tr>\n",
       "      <th>640</th>\n",
       "      <td>49-9099</td>\n",
       "      <td>3</td>\n",
       "    </tr>\n",
       "    <tr>\n",
       "      <th>335</th>\n",
       "      <td>29-2099</td>\n",
       "      <td>3</td>\n",
       "    </tr>\n",
       "    <tr>\n",
       "      <th>273</th>\n",
       "      <td>27-3031</td>\n",
       "      <td>3</td>\n",
       "    </tr>\n",
       "    <tr>\n",
       "      <th>...</th>\n",
       "      <td>...</td>\n",
       "      <td>...</td>\n",
       "    </tr>\n",
       "    <tr>\n",
       "      <th>816</th>\n",
       "      <td>55-3015</td>\n",
       "      <td>1</td>\n",
       "    </tr>\n",
       "    <tr>\n",
       "      <th>817</th>\n",
       "      <td>55-3016</td>\n",
       "      <td>1</td>\n",
       "    </tr>\n",
       "    <tr>\n",
       "      <th>818</th>\n",
       "      <td>55-3017</td>\n",
       "      <td>1</td>\n",
       "    </tr>\n",
       "    <tr>\n",
       "      <th>819</th>\n",
       "      <td>55-3018</td>\n",
       "      <td>1</td>\n",
       "    </tr>\n",
       "    <tr>\n",
       "      <th>3</th>\n",
       "      <td>11-2011</td>\n",
       "      <td>1</td>\n",
       "    </tr>\n",
       "  </tbody>\n",
       "</table>\n",
       "<p>821 rows × 2 columns</p>\n",
       "</div>"
      ],
      "text/plain": [
       "    2000 SOC Code  2010 SOC Code\n",
       "72        15-1081              5\n",
       "306       29-1111              4\n",
       "640       49-9099              3\n",
       "335       29-2099              3\n",
       "273       27-3031              3\n",
       "..            ...            ...\n",
       "816       55-3015              1\n",
       "817       55-3016              1\n",
       "818       55-3017              1\n",
       "819       55-3018              1\n",
       "3         11-2011              1\n",
       "\n",
       "[821 rows x 2 columns]"
      ]
     },
     "execution_count": 6,
     "metadata": {},
     "output_type": "execute_result"
    }
   ],
   "source": [
    "crosswalk_2000_to_2010.groupby('2000 SOC Code').agg({'2010 SOC Code': 'count'}).reset_index().sort_values(by='2010 SOC Code', ascending=False)"
   ]
  },
  {
   "cell_type": "code",
   "execution_count": 7,
   "id": "6a213c64",
   "metadata": {},
   "outputs": [
    {
     "data": {
      "text/html": [
       "<div>\n",
       "<style scoped>\n",
       "    .dataframe tbody tr th:only-of-type {\n",
       "        vertical-align: middle;\n",
       "    }\n",
       "\n",
       "    .dataframe tbody tr th {\n",
       "        vertical-align: top;\n",
       "    }\n",
       "\n",
       "    .dataframe thead th {\n",
       "        text-align: right;\n",
       "    }\n",
       "</style>\n",
       "<table border=\"1\" class=\"dataframe\">\n",
       "  <thead>\n",
       "    <tr style=\"text-align: right;\">\n",
       "      <th></th>\n",
       "      <th>2000 SOC Code</th>\n",
       "      <th>2000 SOC Title</th>\n",
       "      <th>2010 SOC Code</th>\n",
       "      <th>2010 SOC Title</th>\n",
       "    </tr>\n",
       "  </thead>\n",
       "  <tbody>\n",
       "    <tr>\n",
       "      <th>78</th>\n",
       "      <td>15-1081</td>\n",
       "      <td>Network Systems and Data Communications Analysts*</td>\n",
       "      <td>15-1122</td>\n",
       "      <td>Information Security Analysts</td>\n",
       "    </tr>\n",
       "    <tr>\n",
       "      <th>79</th>\n",
       "      <td>15-1081</td>\n",
       "      <td>Network Systems and Data Communications Analysts*</td>\n",
       "      <td>15-1134</td>\n",
       "      <td>Web Developers</td>\n",
       "    </tr>\n",
       "    <tr>\n",
       "      <th>80</th>\n",
       "      <td>15-1081</td>\n",
       "      <td>Network Systems and Data Communications Analysts*</td>\n",
       "      <td>15-1142</td>\n",
       "      <td>Network and Computer Systems Administrators**</td>\n",
       "    </tr>\n",
       "    <tr>\n",
       "      <th>81</th>\n",
       "      <td>15-1081</td>\n",
       "      <td>Network Systems and Data Communications Analysts*</td>\n",
       "      <td>15-1143</td>\n",
       "      <td>Computer Network Architects**</td>\n",
       "    </tr>\n",
       "    <tr>\n",
       "      <th>82</th>\n",
       "      <td>15-1081</td>\n",
       "      <td>Network Systems and Data Communications Analysts*</td>\n",
       "      <td>15-1152</td>\n",
       "      <td>Computer Network Support Specialists</td>\n",
       "    </tr>\n",
       "  </tbody>\n",
       "</table>\n",
       "</div>"
      ],
      "text/plain": [
       "   2000 SOC Code                                     2000 SOC Title  \\\n",
       "78       15-1081  Network Systems and Data Communications Analysts*   \n",
       "79       15-1081  Network Systems and Data Communications Analysts*   \n",
       "80       15-1081  Network Systems and Data Communications Analysts*   \n",
       "81       15-1081  Network Systems and Data Communications Analysts*   \n",
       "82       15-1081  Network Systems and Data Communications Analysts*   \n",
       "\n",
       "   2010 SOC Code                                 2010 SOC Title  \n",
       "78       15-1122                  Information Security Analysts  \n",
       "79       15-1134                                 Web Developers  \n",
       "80       15-1142  Network and Computer Systems Administrators**  \n",
       "81       15-1143                  Computer Network Architects**  \n",
       "82       15-1152           Computer Network Support Specialists  "
      ]
     },
     "execution_count": 7,
     "metadata": {},
     "output_type": "execute_result"
    }
   ],
   "source": [
    "crosswalk_2000_to_2010[crosswalk_2000_to_2010['2000 SOC Code'] == '15-1081']"
   ]
  },
  {
   "cell_type": "code",
   "execution_count": 9,
   "id": "0bd0ad5b",
   "metadata": {},
   "outputs": [
    {
     "data": {
      "text/plain": [
       "'15-1152'"
      ]
     },
     "execution_count": 9,
     "metadata": {},
     "output_type": "execute_result"
    }
   ],
   "source": [
    "cw_00_to_10_dict = crosswalk_2000_to_2010.set_index(\"2000 SOC Code\")[\"2010 SOC Code\"].to_dict()\n",
    "cw_00_to_10_dict['15-1081']"
   ]
  },
  {
   "cell_type": "code",
   "execution_count": null,
   "id": "4c0a84e6",
   "metadata": {},
   "outputs": [],
   "source": [
    "oes_2012 = pd.read_csv('/Users/sidsatya/dev/ailabor/data/bls/na/oes_2012.csv')"
   ]
  }
 ],
 "metadata": {
  "kernelspec": {
   "display_name": "ailabor_env",
   "language": "python",
   "name": "python3"
  },
  "language_info": {
   "codemirror_mode": {
    "name": "ipython",
    "version": 3
   },
   "file_extension": ".py",
   "mimetype": "text/x-python",
   "name": "python",
   "nbconvert_exporter": "python",
   "pygments_lexer": "ipython3",
   "version": "3.11.13"
  }
 },
 "nbformat": 4,
 "nbformat_minor": 5
}
